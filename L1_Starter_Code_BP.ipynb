{
 "cells": [
  {
   "cell_type": "markdown",
   "metadata": {},
   "source": [
    "Before we get started, a couple of reminders to keep in mind when using iPython notebooks:\n",
    "\n",
    "- Remember that you can see from the left side of a code cell when it was last run if there is a number within the brackets.\n",
    "- When you start a new notebook session, make sure you run all of the cells up to the point where you last left off. Even if the output is still visible from when you ran the cells in your previous session, the kernel starts in a fresh state so you'll need to reload the data, etc. on a new session.\n",
    "- The previous point is useful to keep in mind if your answers do not match what is expected in the lesson's quizzes. Try reloading the data and run all of the processing steps one by one in order to make sure that you are working with the same variables and data that are at each quiz stage.\n",
    "\n",
    "\n",
    "## Load Data from CSVs"
   ]
  },
  {
   "cell_type": "code",
   "execution_count": 1,
   "metadata": {
    "collapsed": true
   },
   "outputs": [],
   "source": [
    "import unicodecsv\n",
    "\n",
    "## Longer version of code (replaced with shorter, equivalent version below)\n",
    "\n",
    "# enrollments = []\n",
    "# f = open('enrollments.csv', 'rb')\n",
    "# reader = unicodecsv.DictReader(f)\n",
    "# for row in reader:\n",
    "#     enrollments.append(row)\n",
    "# f.close()\n",
    "\n",
    "with open('enrollments.csv', 'rb') as f:\n",
    "    reader = unicodecsv.DictReader(f)\n",
    "    enrollments = list(reader)"
   ]
  },
  {
   "cell_type": "code",
   "execution_count": 2,
   "metadata": {
    "collapsed": false
   },
   "outputs": [
    {
     "name": "stdout",
     "output_type": "stream",
     "text": [
      "{u'lessons_completed': u'0.0', u'num_courses_visited': u'1.0', u'total_minutes_visited': u'11.6793745', u'projects_completed': u'0.0', u'acct': u'0', u'utc_date': u'2015-01-09'}\n",
      "{u'lesson_key': u'3176718735', u'processing_state': u'EVALUATED', u'account_key': u'256', u'assigned_rating': u'UNGRADED', u'completion_date': u'2015-01-16', u'creation_date': u'2015-01-14'}\n"
     ]
    }
   ],
   "source": [
    "#####################################\n",
    "#                 1                 #\n",
    "#####################################\n",
    "\n",
    "## Read in the data from daily_engagement.csv and project_submissions.csv \n",
    "## and store the results in the below variables.\n",
    "## Then look at the first row of each table.\n",
    "\n",
    "engagement_filename = 'daily_engagement.csv'\n",
    "submissions_filename = 'project_submissions.csv'\n",
    "    \n",
    "daily_engagement = None     # Replace this with your code\n",
    "\n",
    "with open(engagement_filename, 'rb') as g:\n",
    "    reader_g = unicodecsv.DictReader(g)\n",
    "    daily_engagement = list(reader_g)\n",
    "\n",
    "project_submissions = None  # Replace this with your code\n",
    "\n",
    "with open(submissions_filename, 'rb') as h:\n",
    "    reader_h = unicodecsv.DictReader(h)\n",
    "    project_submissions = list(reader_h)\n",
    "    \n",
    "print daily_engagement[0]\n",
    "print project_submissions[0]"
   ]
  },
  {
   "cell_type": "markdown",
   "metadata": {},
   "source": [
    "## Fixing Data Types"
   ]
  },
  {
   "cell_type": "code",
   "execution_count": 3,
   "metadata": {
    "collapsed": false
   },
   "outputs": [
    {
     "data": {
      "text/plain": [
       "{u'account_key': u'448',\n",
       " u'cancel_date': datetime.datetime(2015, 1, 14, 0, 0),\n",
       " u'days_to_cancel': 65,\n",
       " u'is_canceled': True,\n",
       " u'is_udacity': True,\n",
       " u'join_date': datetime.datetime(2014, 11, 10, 0, 0),\n",
       " u'status': u'canceled'}"
      ]
     },
     "execution_count": 3,
     "metadata": {},
     "output_type": "execute_result"
    }
   ],
   "source": [
    "from datetime import datetime as dt\n",
    "\n",
    "# Takes a date as a string, and returns a Python datetime object. \n",
    "# If there is no date given, returns None\n",
    "def parse_date(date):\n",
    "    if date == '':\n",
    "        return None\n",
    "    else:\n",
    "        return dt.strptime(date, '%Y-%m-%d')\n",
    "    \n",
    "# Takes a string which is either an empty string or represents an integer,\n",
    "# and returns an int or None.\n",
    "def parse_maybe_int(i):\n",
    "    if i == '':\n",
    "        return None\n",
    "    else:\n",
    "        return int(i)\n",
    "\n",
    "# Clean up the data types in the enrollments table\n",
    "for enrollment in enrollments:\n",
    "    enrollment['cancel_date'] = parse_date(enrollment['cancel_date'])\n",
    "    enrollment['days_to_cancel'] = parse_maybe_int(enrollment['days_to_cancel'])\n",
    "    enrollment['is_canceled'] = enrollment['is_canceled'] == 'True'\n",
    "    enrollment['is_udacity'] = enrollment['is_udacity'] == 'True'\n",
    "    enrollment['join_date'] = parse_date(enrollment['join_date'])\n",
    "    \n",
    "enrollments[0]"
   ]
  },
  {
   "cell_type": "code",
   "execution_count": 4,
   "metadata": {
    "collapsed": false
   },
   "outputs": [
    {
     "data": {
      "text/plain": [
       "{u'acct': u'0',\n",
       " u'lessons_completed': 0,\n",
       " u'num_courses_visited': 1,\n",
       " u'projects_completed': 0,\n",
       " u'total_minutes_visited': 11.6793745,\n",
       " u'utc_date': datetime.datetime(2015, 1, 9, 0, 0)}"
      ]
     },
     "execution_count": 4,
     "metadata": {},
     "output_type": "execute_result"
    }
   ],
   "source": [
    "# Clean up the data types in the engagement table\n",
    "for engagement_record in daily_engagement:\n",
    "    engagement_record['lessons_completed'] = int(float(engagement_record['lessons_completed']))\n",
    "    engagement_record['num_courses_visited'] = int(float(engagement_record['num_courses_visited']))\n",
    "    engagement_record['projects_completed'] = int(float(engagement_record['projects_completed']))\n",
    "    engagement_record['total_minutes_visited'] = float(engagement_record['total_minutes_visited'])\n",
    "    engagement_record['utc_date'] = parse_date(engagement_record['utc_date'])\n",
    "    \n",
    "daily_engagement[0]"
   ]
  },
  {
   "cell_type": "code",
   "execution_count": 5,
   "metadata": {
    "collapsed": false
   },
   "outputs": [
    {
     "data": {
      "text/plain": [
       "{u'account_key': u'256',\n",
       " u'assigned_rating': u'UNGRADED',\n",
       " u'completion_date': datetime.datetime(2015, 1, 16, 0, 0),\n",
       " u'creation_date': datetime.datetime(2015, 1, 14, 0, 0),\n",
       " u'lesson_key': u'3176718735',\n",
       " u'processing_state': u'EVALUATED'}"
      ]
     },
     "execution_count": 5,
     "metadata": {},
     "output_type": "execute_result"
    }
   ],
   "source": [
    "# Clean up the data types in the submissions table\n",
    "for submission in project_submissions:\n",
    "    submission['completion_date'] = parse_date(submission['completion_date'])\n",
    "    submission['creation_date'] = parse_date(submission['creation_date'])\n",
    "\n",
    "project_submissions[0]"
   ]
  },
  {
   "cell_type": "markdown",
   "metadata": {},
   "source": [
    "Note when running the above cells that we are actively changing the contents of our data variables. If you try to run these cells multiple times in the same session, an error will occur.\n",
    "\n",
    "## Investigating the Data"
   ]
  },
  {
   "cell_type": "code",
   "execution_count": 6,
   "metadata": {
    "collapsed": false
   },
   "outputs": [
    {
     "name": "stdout",
     "output_type": "stream",
     "text": [
      "3642\n",
      "743\n"
     ]
    }
   ],
   "source": [
    "#####################################\n",
    "#                 2                 #\n",
    "#####################################\n",
    "\n",
    "def counter(table):\n",
    "    total = 0\n",
    "    for i in table:\n",
    "        total = total + 1\n",
    "    return total\n",
    "\n",
    "def unique(table):\n",
    "    total = 0\n",
    "    lst = []\n",
    "    for i in table:\n",
    "        if i['account_key'] in lst:\n",
    "            total = total\n",
    "        else:\n",
    "            total = total + 1\n",
    "            lst.append(i['account_key'])\n",
    "    return total\n",
    "\n",
    "#print counter(project_submissions)\n",
    "#print unique(project_submissions)\n",
    "\n",
    "unique_project_sub_accounts = set()\n",
    "for i in project_submissions:\n",
    "    unique_project_sub_accounts.add(i['account_key'])\n",
    "    \n",
    "unique_enrollment_accounts = set()    \n",
    "for i in enrollments:\n",
    "    unique_enrollment_accounts.add(i['account_key'])\n",
    "\n",
    "unique_daily_engagement_accounts = set()\n",
    "for i in daily_engagement:\n",
    "    unique_daily_engagement_accounts.add(i['acct'])\n",
    "## Find the total number of rows and the number of unique students (account keys)\n",
    "## in each table.\n",
    "\n",
    "print len(project_submissions)\n",
    "print len(unique_project_sub_accounts)"
   ]
  },
  {
   "cell_type": "markdown",
   "metadata": {},
   "source": [
    "## Problems in the Data"
   ]
  },
  {
   "cell_type": "code",
   "execution_count": 7,
   "metadata": {
    "collapsed": false
   },
   "outputs": [
    {
     "name": "stdout",
     "output_type": "stream",
     "text": [
      "{u'lessons_completed': 0, u'num_courses_visited': 1, u'total_minutes_visited': 33.4892696667, u'projects_completed': 0, 'account_key': u'0', u'utc_date': datetime.datetime(2015, 1, 12, 0, 0)}\n"
     ]
    }
   ],
   "source": [
    "#####################################\n",
    "#                 3                 #\n",
    "#####################################\n",
    "\n",
    "## Rename the \"acct\" column in the daily_engagement table to \"account_key\".\n",
    "\n",
    "  \n",
    "for i in daily_engagement:\n",
    "    i['account_key'] = i.pop('acct')\n",
    "    \n",
    "print daily_engagement[3]"
   ]
  },
  {
   "cell_type": "code",
   "execution_count": 8,
   "metadata": {
    "collapsed": false
   },
   "outputs": [
    {
     "name": "stdout",
     "output_type": "stream",
     "text": [
      "{u'lessons_completed': 0, u'num_courses_visited': 1, u'total_minutes_visited': 11.6793745, u'projects_completed': 0, 'account_key': u'0', u'utc_date': datetime.datetime(2015, 1, 9, 0, 0)}\n"
     ]
    }
   ],
   "source": [
    "print daily_engagement[0]"
   ]
  },
  {
   "cell_type": "markdown",
   "metadata": {},
   "source": [
    "## Missing Engagement Records"
   ]
  },
  {
   "cell_type": "code",
   "execution_count": 9,
   "metadata": {
    "collapsed": false
   },
   "outputs": [
    {
     "name": "stdout",
     "output_type": "stream",
     "text": [
      "1219\n",
      "None\n",
      "1237\n",
      "1302\n",
      "743\n"
     ]
    }
   ],
   "source": [
    "#####################################\n",
    "#                 4                 #\n",
    "#####################################\n",
    "\n",
    "## Find any one student enrollments where the student is missing from the daily engagement table.\n",
    "## Output that enrollment.\n",
    "\n",
    "missing_lst = []\n",
    "def missing(table):\n",
    "    for i in table:\n",
    "        if i['account_key'] not in unique_daily_engagement_accounts:\n",
    "            print i['account_key']\n",
    "            break\n",
    "print missing(enrollments)\n",
    "print len(unique_daily_engagement_accounts)\n",
    "print len(unique_enrollment_accounts)\n",
    "print len(unique_project_sub_accounts)"
   ]
  },
  {
   "cell_type": "markdown",
   "metadata": {},
   "source": [
    "## Checking for More Problem Records"
   ]
  },
  {
   "cell_type": "code",
   "execution_count": 10,
   "metadata": {
    "collapsed": false
   },
   "outputs": [
    {
     "name": "stdout",
     "output_type": "stream",
     "text": [
      "{u'status': u'canceled', u'is_udacity': True, u'is_canceled': True, u'join_date': datetime.datetime(2015, 1, 10, 0, 0), u'account_key': u'1304', u'cancel_date': datetime.datetime(2015, 3, 10, 0, 0), u'days_to_cancel': 59}\n",
      "{u'status': u'canceled', u'is_udacity': True, u'is_canceled': True, u'join_date': datetime.datetime(2015, 3, 10, 0, 0), u'account_key': u'1304', u'cancel_date': datetime.datetime(2015, 6, 17, 0, 0), u'days_to_cancel': 99}\n",
      "{u'status': u'current', u'is_udacity': True, u'is_canceled': False, u'join_date': datetime.datetime(2015, 2, 25, 0, 0), u'account_key': u'1101', u'cancel_date': None, u'days_to_cancel': None}\n",
      "3\n"
     ]
    }
   ],
   "source": [
    "#####################################\n",
    "#                 5                 #\n",
    "#####################################\n",
    "\n",
    "## Find the number of surprising data points (enrollments missing from\n",
    "## the engagement table) that remain, if any.\n",
    "num = 0\n",
    "for i in enrollments:\n",
    "        if (i['account_key'] not in unique_daily_engagement_accounts and i['join_date'] != i['cancel_date']):\n",
    "            print i\n",
    "            num += 1\n",
    "            \n",
    "print num"
   ]
  },
  {
   "cell_type": "markdown",
   "metadata": {},
   "source": [
    "## Tracking Down the Remaining Problems"
   ]
  },
  {
   "cell_type": "code",
   "execution_count": 11,
   "metadata": {
    "collapsed": false
   },
   "outputs": [
    {
     "data": {
      "text/plain": [
       "6"
      ]
     },
     "execution_count": 11,
     "metadata": {},
     "output_type": "execute_result"
    }
   ],
   "source": [
    "# Create a set of the account keys for all Udacity test accounts\n",
    "udacity_test_accounts = set()\n",
    "for enrollment in enrollments:\n",
    "    if enrollment['is_udacity']:\n",
    "        udacity_test_accounts.add(enrollment['account_key'])\n",
    "len(udacity_test_accounts)"
   ]
  },
  {
   "cell_type": "code",
   "execution_count": 12,
   "metadata": {
    "collapsed": true
   },
   "outputs": [],
   "source": [
    "# Given some data with an account_key field, removes any records corresponding to Udacity test accounts\n",
    "def remove_udacity_accounts(data):\n",
    "    non_udacity_data = []\n",
    "    for data_point in data:\n",
    "        if data_point['account_key'] not in udacity_test_accounts:\n",
    "            non_udacity_data.append(data_point)\n",
    "    return non_udacity_data"
   ]
  },
  {
   "cell_type": "code",
   "execution_count": 13,
   "metadata": {
    "collapsed": false
   },
   "outputs": [
    {
     "name": "stdout",
     "output_type": "stream",
     "text": [
      "1622\n",
      "135656\n",
      "3634\n"
     ]
    }
   ],
   "source": [
    "# Remove Udacity test accounts from all three tables\n",
    "non_udacity_enrollments = remove_udacity_accounts(enrollments)\n",
    "non_udacity_engagement = remove_udacity_accounts(daily_engagement)\n",
    "non_udacity_submissions = remove_udacity_accounts(project_submissions)\n",
    "\n",
    "print len(non_udacity_enrollments)\n",
    "print len(non_udacity_engagement)\n",
    "print len(non_udacity_submissions)"
   ]
  },
  {
   "cell_type": "markdown",
   "metadata": {},
   "source": [
    "## Refining the Question"
   ]
  },
  {
   "cell_type": "code",
   "execution_count": 14,
   "metadata": {
    "collapsed": false
   },
   "outputs": [
    {
     "name": "stdout",
     "output_type": "stream",
     "text": [
      "995\n"
     ]
    }
   ],
   "source": [
    "#####################################\n",
    "#                 6                 #\n",
    "#####################################\n",
    "\n",
    "## Create a dictionary named paid_students containing all students who either\n",
    "## haven't canceled yet or who remained enrolled for more than 7 days. The keys\n",
    "## should be account keys, and the values should be the date the student enrolled.\n",
    "\n",
    "paid_students = {}\n",
    "\n",
    "for i in non_udacity_enrollments:\n",
    "    if (i['cancel_date'] is None or i['days_to_cancel'] > 7):\n",
    "        account_key = i['account_key']\n",
    "        enrollment_date = i['join_date']\n",
    "        if (account_key not in paid_students or enrollment_date > paid_students[account_key]):\n",
    "            paid_students[account_key] = enrollment_date\n",
    "print len(paid_students)"
   ]
  },
  {
   "cell_type": "markdown",
   "metadata": {},
   "source": [
    "## Getting Data from First Week"
   ]
  },
  {
   "cell_type": "code",
   "execution_count": 15,
   "metadata": {
    "collapsed": true
   },
   "outputs": [],
   "source": [
    "# Takes a student's join date and the date of a specific engagement record,\n",
    "# and returns True if that engagement record happened within one week\n",
    "# of the student joining.\n",
    "def within_one_week(join_date, engagement_date):\n",
    "    time_delta = engagement_date - join_date\n",
    "    return time_delta.days < 7 and time_delta.days >= 0"
   ]
  },
  {
   "cell_type": "code",
   "execution_count": 16,
   "metadata": {
    "collapsed": false
   },
   "outputs": [
    {
     "name": "stdout",
     "output_type": "stream",
     "text": [
      "1293\n",
      "134549\n",
      "3618\n",
      "6919\n"
     ]
    }
   ],
   "source": [
    "#####################################\n",
    "#                 7                 #\n",
    "#####################################\n",
    "\n",
    "## Create a list of rows from the engagement table including only rows where\n",
    "## the student is one of the paid students you just found, and the date is within\n",
    "## one week of the student's join date.\n",
    "\n",
    "def remove_deleted(data):\n",
    "    new_data = []\n",
    "    for i in data:\n",
    "        if i['account_key'] in paid_students:\n",
    "            new_data.append(i)\n",
    "    return new_data\n",
    "\n",
    "paid_enrollments = remove_deleted(non_udacity_enrollments)\n",
    "paid_engagement = remove_deleted(non_udacity_engagement)\n",
    "paid_submissions = remove_deleted(non_udacity_submissions)\n",
    "\n",
    "print len(paid_enrollments)\n",
    "print len(paid_engagement)\n",
    "print len(paid_submissions)\n",
    "\n",
    "paid_engagement_in_first_week = []\n",
    "\n",
    "for i in paid_engagement:\n",
    "    account_key = i['account_key']\n",
    "    join_date = paid_students[account_key]\n",
    "    engagement_date = i['utc_date']\n",
    "    \n",
    "    if within_one_week(join_date, engagement_date):\n",
    "        paid_engagement_in_first_week.append(i)\n",
    "print len(paid_engagement_in_first_week)"
   ]
  },
  {
   "cell_type": "markdown",
   "metadata": {},
   "source": [
    "## Exploring Student Engagement"
   ]
  },
  {
   "cell_type": "code",
   "execution_count": 17,
   "metadata": {
    "collapsed": false
   },
   "outputs": [],
   "source": [
    "from collections import defaultdict\n",
    "\n",
    "# Create a dictionary of engagement grouped by student.\n",
    "# The keys are account keys, and the values are lists of engagement records.\n",
    "def group_data(data, key_name):\n",
    "    grouped_data = defaultdict(list)\n",
    "    for i in data:\n",
    "        key = i[key_name]\n",
    "        grouped_data[key].append(i)\n",
    "    return grouped_data\n",
    "\n",
    "engagement_by_account = group_data(paid_engagement_in_first_week, 'account_key')\n",
    "#print engagement_by_account"
   ]
  },
  {
   "cell_type": "code",
   "execution_count": 18,
   "metadata": {
    "collapsed": false
   },
   "outputs": [],
   "source": [
    "# Create a dictionary with the total minutes each student spent in the classroom during the first week.\n",
    "# The keys are account keys, and the values are numbers (total minutes)\n",
    "def sum_grouped_items(grouped_data, field_name):\n",
    "    summed_data = {}\n",
    "    for key, data_points in grouped_data.items():\n",
    "        place_holder = 0\n",
    "        for i in data_points:\n",
    "            place_holder += i[field_name]\n",
    "        summed_data[key] = place_holder\n",
    "    return summed_data\n",
    "    \n",
    "total_minutes_by_account = sum_grouped_items(engagement_by_account, 'total_minutes_visited')"
   ]
  },
  {
   "cell_type": "code",
   "execution_count": 19,
   "metadata": {
    "collapsed": false
   },
   "outputs": [
    {
     "name": "stdout",
     "output_type": "stream",
     "text": [
      "Mean: 306.708326753\n",
      "Standard deviation: 412.996933409\n",
      "Minimum: 0.0\n",
      "Maximum: 3564.7332645\n",
      "{u'619': 1482.9020456663002, u'1140': 129.85920366667, u'669': 0.0, u'428': 726.26075933267, u'344': 614.9778563333, u'0': 494.88049616599994, u'346': 248.12435916639998, u'347': 713.3479524992999, u'340': 392.473794834, u'341': 35.531418, u'342': 0.0, u'343': 83.295313, u'811': 1138.3177014993998, u'812': 1764.5367983344001, u'348': 0.0, u'349': 211.3875440003, u'816': 0.0, u'918': 21.086721, u'1149': 876.6454899994, u'719': 9.4907925, u'718': 0.0, u'715': 307.3006509996, u'426': 0.0, u'713': 139.060529, u'712': 253.23675750029997, u'710': 3.56199133333, u'661': 92.5547231666, u'129': 101.387314333, u'660': 193.848226, u'422': 311.1889536663, u'1060': 1768.5227493319999, u'1062': 366.3194163334, u'1067': 29.7377383333, u'1066': 0.0, u'671': 115.15559099992998, u'427': 413.5420181666, u'298': 213.4699951663, u'299': 0.0, u'296': 199.06043566667, u'297': 338.67828999970004, u'294': 405.600248833, u'295': 421.6092228329, u'292': 192.665344, u'293': 497.8218254996, u'290': 442.37721166627, u'291': 0.0, u'591': 0.0, u'590': 0.0, u'593': 0.0, u'592': 488.40353200030006, u'595': 335.5259626667, u'594': 0.0, u'597': 1047.649452501, u'596': 311.07236283327, u'195': 1166.4244791677, u'194': 315.44705699977, u'197': 931.3076661670001, u'196': 383.1542506668, u'191': 137.2655706667, u'190': 7.94751166667, u'193': 121.07599299993, u'192': 402.42499849989997, u'270': 1020.3306876671, u'271': 830.83625116633, u'272': 1203.2224428333002, u'273': 70.48434450007001, u'274': 1435.0160603327001, u'275': 44.477798999970005, u'276': 429.03252133340004, u'277': 884.915487, u'278': 0.0, u'279': 143.048056833, u'497': 448.741092333, u'524': 0.0, u'525': 0.0, u'526': 670.3438828333, u'527': 256.4187193326, u'520': 109.5149769999, u'1019': 75.87298200000001, u'522': 303.55134400000003, u'523': 61.33310733329999, u'1014': 619.9953998326, u'1015': 38.87817050003, u'528': 514.0743979996, u'529': 0.0, u'1013': 4.3800225, u'1235': 172.77872349963, u'449': 20.247478, u'391': 0.0, u'1231': 621.5755701662999, u'443': 1001.813550333, u'442': 184.162204667, u'441': 1065.2951291673999, u'440': 45.9874008334, u'447': 119.916663667, u'446': 90.90472849993, u'445': 46.3023048333, u'444': 0.0, u'47': 854.8288881656, u'108': 164.27089083347, u'109': 1167.52455983297, u'102': 277.0299235, u'103': 1075.0625133337, u'100': 145.70615016660003, u'101': 148.7306783333, u'106': 29.0687406666, u'107': 171.2928940001, u'104': 839.123771167, u'105': 312.1800340007, u'39': 1001.5888595, u'38': 0.0, u'906': 5.75313916667, u'905': 108.9832133333, u'33': 253.9870258334, u'32': 123.2915048333, u'31': 0.0, u'30': 69.6578351667, u'37': 1378.195091668, u'36': 809.2138958339, u'35': 765.6402170004, u'34': 180.413814, u'641': 340.70627749999994, u'640': 0.0, u'1243': 62.9114363333, u'642': 421.960349833, u'645': 847.3979861667, u'644': 488.3752611667, u'438': 363.94914149996, u'439': 847.38115366667, u'436': 858.37418699973, u'437': 39.4918656667, u'434': 696.5725646662999, u'435': 433.22729549969995, u'432': 437.22883383330003, u'433': 81.51043433337, u'430': 1024.0636758326, u'431': 77.9742268333, u'339': 0.0, u'338': 13.2610473333, u'335': 855.4038108340001, u'334': 0.0, u'337': 0.0, u'336': 278.6769970004, u'331': 501.941580166, u'330': 187.9226685, u'333': 129.087694, u'332': 124.52342500033, u'559': 105.24544450007, u'823': 0.0, u'854': 64.29995600000001, u'855': 92.6896001666, u'856': 0.0, u'857': 0.0, u'851': 58.5606146667, u'852': 214.54059633330002, u'345': 246.61175300029998, u'858': 260.94864483347, u'859': 2.54122166667, u'748': 324.6302378336, u'6': 780.4545511666701, u'822': 2.30081433333, u'43': 88.822038, u'99': 317.10422516660003, u'98': 525.6444536663, u'91': 84.9883638333, u'90': 114.43403466663, u'93': 751.2236896667, u'92': 611.3200641666999, u'94': 0.0, u'97': 8.46994183333, u'96': 45.3963998333, u'153': 116.8988095, u'742': 489.7736965, u'743': 0.0, u'744': 374.5761038331, u'558': 0.0, u'746': 706.5435295006, u'747': 0.0, u'555': 294.34356566670004, u'554': 272.16654083369997, u'557': 1245.8182150003, u'556': 187.25140866697, u'551': 0.0, u'550': 18.9512853333, u'553': 507.1024986672999, u'552': 932.3012898327, u'919': 663.5424139989, u'238': 330.1826238337, u'239': 40.220247, u'234': 931.3838908327, u'235': 0.0, u'236': 467.5716475007, u'237': 704.5008775003, u'230': 197.41214399993, u'231': 9.75699783333, u'232': 1168.2526861667002, u'233': 197.0435864997, u'1050': 84.5200338333, u'1198': 6.5907805, u'1052': 117.195806333, u'1053': 81.4415533333, u'1054': 0.0, u'1055': 71.5736406667, u'1056': 366.5285674997, u'1058': 0.0, u'1194': 168.1376205, u'1': 18.576384666670002, u'155': 0.0, u'159': 0.0, u'146': 11.554518, u'1176': 754.5790381659999, u'618': 513.8126981664001, u'145': 893.4411686660001, u'142': 201.21822283370003, u'143': 405.0228675003, u'140': 2050.1156751667004, u'1170': 0.0, u'612': 52.9136506667, u'613': 545.9623025, u'610': 653.1940411656001, u'611': 382.93037050067, u'616': 321.2057135, u'617': 432.987765666, u'148': 0.0, u'149': 56.835209, u'511': 493.53649199967003, u'1276': 62.8929255, u'154': 736.9791355, u'1285': 32.4256981667, u'1287': 0.0, u'948': 94.3237553333, u'1282': 134.5242838333, u'946': 131.70276883329998, u'1289': 5.45628333333, u'940': 0.0, u'941': 2.99934966667, u'689': 0.0, u'517': 1381.1028195004, u'687': 18.889756499999997, u'686': 9.61211033333, u'682': 25.243540000000003, u'458': 0.0, u'1302': 0.0, u'459': 943.8555468324001, u'873': 30.2541315, u'133': 80.2133103333, u'132': 1196.803629999, u'131': 0.0, u'130': 0.0, u'137': 696.2475044997, u'136': 34.1685658333, u'135': 613.2567715002999, u'134': 1017.1034851664001, u'494': 591.1435670003, u'495': 414.253240333, u'139': 86.4587005, u'138': 90.3995656667, u'490': 32.447970500029996, u'491': 640.0351108333, u'492': 0.0, u'493': 586.7405209996, u'24': 943.188117167, u'25': 0.0, u'26': 430.801675833, u'27': 1579.12122666663, u'20': 447.93897783336996, u'21': 931.1036911666699, u'22': 657.2052335000001, u'23': 1591.3228143334, u'1220': 118.30495933329999, u'28': 766.256315667, u'29': 556.1906033333, u'407': 500.9127926667, u'406': 57.2638435, u'405': 741.2804391669999, u'404': 611.4195701674, u'403': 604.355107166, u'402': 0.0, u'401': 0.0, u'400': 239.61664966700002, u'932': 0.0, u'931': 0.0, u'937': 160.1049253333, u'452': 36.434234, u'409': 364.480768, u'408': 59.7725306667, u'453': 514.86060716603, u'414': 68.0673978333, u'457': 547.552952834, u'183': 418.01940599970004, u'265': 371.26458716729996, u'379': 391.3939735, u'378': 0.0, u'228': 360.4108591662, u'829': 129.762569, u'828': 345.17664533360005, u'371': 4.24015233333, u'370': 0.0, u'373': 532.5829673333, u'372': 197.066153, u'375': 506.55911883299996, u'374': 30.5476253333, u'377': 803.3391453328, u'376': 65.9101326667, u'1278': 0.0, u'709': 88.0103965, u'147': 0.0, u'704': 0.0, u'705': 0.0, u'706': 1329.9598305, u'144': 384.69492683359994, u'702': 0.0, u'393': 3.3318835, u'392': 427.5369333332, u'88': 0.0, u'89': 63.79716583327, u'397': 34.50448516667, u'396': 0.0, u'395': 2.17768916667, u'394': 808.5665558337, u'82': 537.5285965007, u'83': 293.4918854997, u'80': 106.2245978334, u'81': 227.6363853331, u'86': 0.0, u'87': 1035.306503999, u'84': 752.4780518326, u'85': 500.4921706667001, u'797': 0.0, u'796': 0.0, u'794': 146.9410850001, u'793': 0.0, u'792': 1369.641421833, u'791': 417.953548167, u'141': 544.992658666, u'798': 397.8826263333, u'7': 104.20388850009999, u'170': 586.7042849994001, u'586': 77.7392298333, u'587': 9.64132116667, u'584': 0.0, u'585': 535.00554450033, u'582': 2.4822425, u'583': 762.169280667, u'580': 712.1588875006701, u'581': 122.48917700033, u'1274': 438.5049581666, u'1131': 693.148515833, u'1130': 137.6759001667, u'1136': 0.0, u'588': 84.6351145, u'589': 4.56274816667, u'245': 669.9961104997, u'244': 123.5804105, u'246': 277.3369746671, u'241': 288.9210591667, u'614': 101.1193401667, u'243': 46.605140666699995, u'242': 554.59261383367, u'615': 108.47527400000001, u'249': 877.8003651663, u'248': 183.134135333, u'418': 86.7824926667, u'519': 231.0283105, u'518': 980.5763799994, u'1009': 0.0, u'1007': 0.0, u'510': 143.78600349967, u'513': 626.2345113327, u'512': 4.26499566667, u'515': 265.47810483300003, u'1002': 8.1809285, u'1001': 16.2005246667, u'1000': 180.025886167, u'623': 230.70437450010002, u'622': 396.82058733329995, u'621': 204.02415449966998, u'514': 62.84829066659999, u'627': 1047.4820013337, u'626': 95.1225038333, u'625': 0.0, u'624': 1026.8480728333, u'450': 1096.72738949933, u'451': 79.9306696666, u'629': 374.365616, u'628': 203.3427993337, u'454': 141.19407999967, u'455': 438.50690233336, u'456': 27.37808133337, u'1228': 0.0, u'179': 913.6758890002999, u'178': 783.3383063341, u'1139': 321.75119083367, u'199': 1452.709982333, u'175': 2375.7954986677, u'174': 414.12743866659997, u'173': 12.9807116667, u'172': 589.8798286670001, u'171': 1887.391213833, u'198': 809.546996001, u'977': 3.35443916667, u'182': 310.2486779997, u'975': 3.7103945, u'973': 42.35008283337, u'972': 96.1137128333, u'657': 0.0, u'1080': 5.51051366667, u'979': 517.8334496674, u'656': 0.0, u'599': 146.89298433300002, u'180': 95.4642313333, u'181': 651.9806806667, u'186': 601.3632028330001, u'187': 629.3766914993301, u'184': 247.9964674996, u'185': 0.0, u'652': 479.86306116670005, u'188': 6.20617616667, u'189': 1251.6466043334, u'516': 454.17951166700004, u'1123': 12.6563396667, u'650': 114.84451633329999, u'1124': 0.0, u'651': 1346.7158483327, u'316': 1735.943607166, u'1089': 53.190095, u'1088': 0.0, u'1227': 0.0, u'1113': 37.2096841667, u'11': 0.0, u'10': 130.12347833367, u'13': 1013.3833969996999, u'12': 179.4719088333, u'15': 983.375040335, u'14': 65.6221875, u'17': 235.49969150033, u'16': 119.12030049999998, u'19': 0.0, u'18': 155.1361575, u'864': 53.1295885, u'867': 0.0, u'866': 0.0, u'354': 609.2861186673, u'1210': 430.7856678337, u'1226': 0.0, u'883': 235.39055499926997, u'882': 0.0, u'880': 15.5930261667, u'887': 62.78241916663, u'885': 1403.366643835, u'569': 1477.0239483322998, u'888': 3.3880415, u'1292': 233.20550333356, u'45': 0.0, u'322': 0.0, u'323': 397.24734133329997, u'320': 859.426280833, u'321': 0.0, u'326': 1426.2515225012999, u'327': 355.96292199997, u'324': 1669.9007213329999, u'325': 370.8747679997, u'1224': 61.0835323333, u'328': 667.7495933323299, u'329': 638.196504333, u'562': 326.448714, u'201': 0.0, u'200': 448.5325424996, u'203': 605.7708455, u'202': 219.2389440004, u'205': 315.34049566659996, u'204': 686.7681608344001, u'207': 114.39214366666, u'177': 570.776941833, u'209': 4.55604183333, u'208': 356.77551816640005, u'779': 4.2604045, u'778': 48.1974151667, u'77': 231.80801666640002, u'76': 186.549237333, u'75': 20.8106506667, u'74': 90.48065633329999, u'73': 0.0, u'72': 704.5521115003299, u'71': 53.5545175, u'70': 310.04241416702996, u'655': 177.8367486667, u'79': 416.49598383333, u'78': 0.0, u'1042': 45.5670335, u'1040': 12.9824898333, u'1049': 37.853095, u'1048': 0.0, u'359': 2530.5614099997, u'358': 71.4977216667, u'868': 13.442560666670001, u'1142': 0.0, u'1143': 299.9208106657, u'1269': 4.79064933333, u'1268': 11.3308886667, u'1146': 105.57724800007, u'1147': 28.805244, u'1144': 0.0, u'1305': 9.771473833329999, u'667': 144.1243173333, u'1262': 0.0, u'665': 0.0, u'1260': 0.0, u'1267': 0.0, u'1266': 0.0, u'1265': 0.0, u'1264': 2.01734133333, u'215': 662.64059800003, u'653': 736.4371648339999, u'692': 16.604203, u'693': 0.0, u'690': 0.0, u'224': 30.647238166630004, u'696': 666.3290910003, u'697': 88.1119545, u'694': 198.6962631669, u'698': 56.45108966666999, u'1303': 0.0, u'222': 241.8322233337, u'542': 1036.951593167, u'543': 183.7893518334, u'540': 440.96130916723, u'541': 20.879544833329998, u'546': 41.7786686667, u'547': 0.0, u'544': 1421.7436063333, u'545': 307.7543378337, u'8': 989.113641833, u'548': 769.207330667, u'549': 32.0522478333, u'521': 406.0453698336, u'990': 106.08401216677001, u'992': 39.0104288333, u'120': 266.1378745, u'121': 285.36239183329997, u'122': 530.1415103337, u'123': 0.0, u'124': 51.0695815, u'125': 1410.5316330013002, u'126': 33.4956098333, u'127': 334.5606256663, u'128': 743.1407118340001, u'2': 0.0, u'176': 1051.5771371676, u'563': 21.972605, u'1022': 0.0, u'1011': 118.71332966671, u'928': 80.6559995, u'415': 0.0, u'416': 722.84210483367, u'417': 22.14904683337, u'410': 951.118714666, u'411': 0.0, u'412': 55.49376599997, u'413': 578.9502861663, u'920': 156.1449683333, u'498': 385.2513571667001, u'923': 0.0, u'924': 209.96127933370002, u'419': 6.72066133333, u'927': 125.44656916667, u'319': 343.6706583329, u'318': 196.3044158337, u'313': 888.6124170002998, u'1029': 3.50885666667, u'311': 59.239222, u'310': 843.170594833, u'317': 2778.3161446706704, u'1236': 0.0, u'315': 657.0126268326, u'314': 1341.720517667, u'1177': 43.0449731666, u'496': 1217.1688571673, u'832': 0.0, u'833': 2.38093233333, u'831': 51.016355999999995, u'836': 29.38455616663, u'834': 21.5715365, u'835': 0.0, u'839': 13.587055, u'3': 0.0, u'368': 817.9997333323399, u'369': 42.3843405, u'366': 23.55166316667, u'367': 220.21062866679998, u'364': 0.0, u'365': 37.6347753333, u'362': 58.3151085, u'363': 0.0, u'360': 677.2790736659999, u'361': 1053.7764165013, u'218': 2393.5421573319004, u'1175': 2.7094835, u'381': 0.0, u'382': 73.6446115, u'383': 212.1774728337, u'384': 925.7537420007, u'385': 446.4724451667, u'386': 0.0, u'387': 0.0, u'388': 1208.05215466633, u'389': 131.7464566667, u'784': 176.3818004999, u'380': 51.9296121667, u'786': 23.695871500029998, u'787': 0.0, u'780': 0.0, u'781': 0.0, u'782': 277.8489021664, u'1174': 76.1418825, u'630': 394.5387589999, u'114': 186.94018933324, u'151': 908.4660900005999, u'579': 298.253430333, u'578': 28.5667518333, u'150': 414.14088366667, u'573': 924.2469394994, u'572': 907.111293668, u'571': 0.0, u'570': 173.9382718334, u'577': 120.55847799993, u'576': 911.11994133237, u'575': 400.8135763341, u'574': 0.0, u'60': 0.0, u'61': 496.99219366667, u'62': 293.383122167, u'259': 736.3565788330001, u'64': 346.5030268336, u'65': 422.27366000010005, u'66': 6.95969283333, u'67': 856.8375048337, u'68': 0.0, u'253': 0.0, u'250': 284.6907063333, u'251': 175.613687167, u'256': 0.0, u'257': 39.485681500000005, u'254': 600.5757328336, u'255': 221.72389316627002, u'499': 367.3854126667, u'157': 8.3032715, u'156': 635.5124964993, u'939': 0.0, u'730': 41.7199715, u'1038': 0.0, u'938': 69.45209899999999, u'735': 0.0, u'508': 736.5973803337, u'736': 313.50181033333, u'506': 75.8750386667, u'507': 92.3539813334, u'1030': 218.55650866673005, u'505': 459.3740381662999, u'502': 504.04492916670006, u'503': 2.8138905, u'500': 229.2620115, u'501': 32.8227305, u'1212': 0.0, u'631': 237.7646521667, u'632': 84.558989, u'633': 1689.189059835, u'1216': 266.32487266671006, u'468': 224.91582050030001, u'636': 169.3917738333, u'785': 4.78649716667, u'465': 53.1803671667, u'464': 503.05470083299997, u'1128': 53.4711175, u'466': 131.94636750003, u'461': 89.6344988334, u'900': 0.0, u'463': 633.4301786670001, u'462': 749.194206334, u'901': 26.5587726667, u'168': 120.87673000033001, u'169': 92.5594045, u'164': 765.55279683203, u'165': 962.5736773336, u'166': 0.0, u'167': 0.0, u'160': 630.1675615003, u'161': 531.8882431671, u'162': 532.6464248333, u'163': 3564.7332644989997, u'965': 666.393701501, u'966': 8.08317416667, u'967': 449.6269801663, u'634': 223.73943383300002, u'969': 24.9669023333, u'1107': 73.6289658334, u'1102': 0.0, u'1103': 0.0, u'934': 5.03956, u'909': 63.3749175, u'635': 80.5941101667, u'678': 100.0702155, u'1183': 258.849289167, u'877': 26.5230981667, u'874': 49.7470893333, u'872': 129.3303274997, u'643': 793.6706421670001, u'1242': 0.0, u'9': 448.471384167, u'676': 16.5745846667, u'1244': 53.5962256666, u'637': 89.0572956666, u'893': 0.0, u'647': 73.5741316667, u'896': 0.0, u'897': 22.0889656667, u'670': 454.273163499, u'1087': 179.4080511666, u'646': 264.5287276666, u'1099': 108.8893720001, u'649': 700.4743598327, u'1199': 4.71476416667, u'1247': 79.19556549999999, u'672': 32.816891, u'1277': 0.0, u'1248': 3.50918183333, u'1173': 55.7923973333, u'357': 105.06483083340001, u'356': 64.7772518334, u'355': 944.5557876659999, u'808': 106.2993215, u'353': 122.07255516670001, u'352': 729.8468485, u'351': 320.97561616674, u'350': 107.74437683336001, u'568': 28.9028346666, u'801': 0.0, u'800': 122.87407133333, u'1263': 383.99752900006996, u'806': 49.937148999970006, u'805': 84.1050015, u'804': 22.7346656667, u'216': 58.36346116669999, u'217': 0.0, u'214': 30.3670653333, u'769': 135.6825435, u'212': 168.3080953333, u'213': 836.3458141666999, u'210': 421.2835453327, u'211': 593.1472776666001, u'762': 85.29257, u'42': 576.4643026663, u'761': 100.06368333333, u'764': 59.340783666700005, u'219': 272.6840003337, u'41': 511.925391, u'1259': 0.0, u'1077': 152.213267167, u'1074': 0.0, u'1075': 90.6038805, u'1072': 0.0, u'1073': 35.81870033337, u'1070': 1309.1846301673, u'1071': 0.0, u'289': 955.78319766497, u'288': 4.58531166667, u'608': 248.29428850003, u'4': 33.3214046667, u'281': 0.0, u'280': 255.53718516670003, u'283': 269.194508, u'282': 570.5658495, u'285': 109.141489, u'284': 302.608719833, u'287': 283.36202233326, u'286': 195.9300631667, u'1094': 464.4721495011001, u'1095': 30.0975526667, u'1096': 269.29544283309997, u'1090': 0.0, u'674': 171.593366833, u'1154': 0.0, u'1157': 0.0, u'1098': 739.8981633335999, u'1150': 150.810125167, u'1153': 565.6616593333, u'673': 348.39415716703, u'263': 417.4064971669, u'262': 42.4569508333, u'261': 0.0, u'260': 638.934161833, u'267': 211.5840809997, u'266': 1420.1479191659998, u'1178': 0.0, u'264': 110.09569266679999, u'1121': 20.21580533333, u'269': 322.475557667, u'268': 314.3331800003, u'1082': 51.1061375, u'59': 47.1679638333, u'58': 1024.109326834, u'1215': 1360.7287001670002, u'55': 589.6171318323301, u'54': 427.764673834, u'57': 91.3514995, u'56': 106.72208133333001, u'51': 0.0, u'258': 595.2719906673, u'53': 401.97479050029995, u'52': 3.22752383333, u'537': 30.6256575, u'536': 0.0, u'535': 629.7823334996999, u'63': 465.58233333400005, u'533': 455.19857933369997, u'532': 422.6295078334, u'531': 594.0435458336, u'530': 1896.7540938320003, u'598': 399.2498304993, u'152': 745.1146233329999, u'1081': 0.0, u'538': 7.1116735, u'988': 61.420162, u'989': 0.0, u'983': 0.0, u'986': 182.85550433323, u'777': 199.31994916669998, u'984': 68.4192841666, u'50': 491.9087078335, u'115': 167.606683, u'252': 343.35795733340007, u'117': 129.2449371666, u'776': 0.0, u'111': 169.159592167, u'110': 1214.55291799937, u'113': 83.7769855, u'69': 0.0, u'771': 275.16640700005996, u'5': 329.7578566663, u'119': 672.9427816664, u'118': 891.8733579995999, u'773': 0.0, u'206': 633.1473566663, u'429': 0.0, u'1257': 30.8061303333, u'1254': 187.32349033330001, u'534': 609.6590520007001, u'666': 138.052647, u'1253': 0.0, u'1250': 10.0058803333, u'1251': 11.2880193333, u'421': 357.275143834, u'420': 96.80278150000001, u'423': 127.15142850000001, u'916': 65.7383995, u'425': 975.587918167, u'424': 0.0, u'913': 72.9583085, u'912': 0.0, u'308': 554.8758693333999, u'309': 150.7999871667, u'300': 88.12990766662999, u'301': 669.9500983341, u'302': 165.37368716699999, u'303': 2700.4878774989998, u'304': 194.7560403337, u'305': 538.88974533303, u'306': 0.0, u'307': 4.19664316667, u'825': 27.3957285, u'824': 260.47024649996, u'846': 32.6861011667, u'844': 817.60166266567, u'843': 924.060058833, u'840': 0.0, u'1151': 113.43918199967, u'853': 5.92106983333, u'539': 172.5712248333, u'1209': 247.9447956666, u'648': 129.1323983333, u'1249': 9.62371516667, u'240': 0.0, u'1208': 114.066953, u'390': 137.9929768333, u'732': 219.926066667, u'753': 116.628876833, u'752': 30.5951761667, u'751': 52.1289673334, u'757': 354.6223496663, u'756': 0.0, u'755': 34.0330873333, u'754': 413.3262124997, u'560': 61.7853381666, u'561': 52.4319528333, u'759': 0.0, u'509': 307.0653258337, u'564': 18.4937245, u'565': 518.1875990003, u'566': 133.319127167, u'567': 321.3727448333, u'1032': 13.899305166700001, u'229': 131.7264965, u'1033': 959.9534376661, u'227': 485.78090949999995, u'226': 439.05929566669994, u'225': 247.9695998334, u'985': 46.494977, u'223': 151.60938049966, u'504': 388.7726185, u'221': 178.70479883369998, u'220': 467.6978279993, u'1031': 11.741084, u'1188': 200.75333083330003, u'1189': 292.8858635, u'1036': 0.0, u'1185': 51.7192425, u'1182': 63.1747861666, u'1028': 18.8601366667, u'1181': 42.3039228333, u'726': 21.1284496667, u'116': 886.0703749999001, u'722': 29.9067615, u'720': 401.81893949967, u'1160': 2.70408483333, u'1167': 870.43417899963, u'729': 0.0, u'605': 218.3752333334, u'604': 1890.9937024994, u'607': 547.7397464997, u'606': 456.3332818333, u'601': 0.0, u'600': 24.87366349997, u'603': 207.9139188337, u'602': 615.9597956661, u'1205': 0.0, u'158': 0.0, u'1207': 26.4703245, u'112': 388.23059683327006, u'609': 73.7238143333, u'1200': 696.57720983267, u'1202': 48.67926333336, u'1204': 291.7782771666, u'1211': 0.0, u'976': 65.0527071667, u'1161': 87.8123571667, u'469': 884.7240451653, u'399': 177.5920131668, u'1217': 100.837620167, u'958': 0.0, u'398': 12.05914466667, u'1214': 12.822523, u'48': 1055.6871896667, u'49': 0.0, u'46': 26.1189351667, u'950': 107.3523146666, u'44': 0.0, u'952': 120.657056167, u'955': 240.5959745003, u'954': 91.64868466669999, u'40': 478.21952616690004, u'956': 6.80688283333, u'1111': 0.0, u'1110': 52.90383883333, u'1298': 143.91027249997, u'1299': 0.0, u'1115': 0.0, u'1117': 0.0, u'639': 416.14186616669997, u'620': 557.5625511664, u'1118': 89.38367816659999, u'1290': 78.787234, u'467': 207.27739616670002, u'1206': 76.7225691667, u'460': 116.03298466660002, u'1163': 56.4237046666, u'489': 829.9734088337, u'488': 101.401498833, u'487': 551.1900968329701, u'486': 188.8958254999, u'485': 411.84511316623, u'484': 18.786721, u'483': 716.3825241659999, u'482': 29.5289625001, u'481': 599.325108667, u'480': 0.0, u'1201': 395.022838667, u'472': 174.4431463334, u'473': 0.0, u'471': 68.2496686666, u'476': 46.6148, u'477': 779.5860966676, u'474': 285.75573750030003, u'475': 164.161086, u'478': 4.45095966667, u'479': 316.43186650009994}\n"
     ]
    }
   ],
   "source": [
    "import numpy as np\n",
    "\n",
    "# Summarize the data about minutes spent in the classroom\n",
    "total_minutes = total_minutes_by_account.values()\n",
    "print 'Mean:', np.mean(total_minutes)\n",
    "print 'Standard deviation:', np.std(total_minutes)\n",
    "print 'Minimum:', np.min(total_minutes)\n",
    "print 'Maximum:', np.max(total_minutes)\n",
    "print total_minutes_by_account"
   ]
  },
  {
   "cell_type": "markdown",
   "metadata": {},
   "source": [
    "## Debugging Data Analysis Code"
   ]
  },
  {
   "cell_type": "code",
   "execution_count": 20,
   "metadata": {
    "collapsed": false
   },
   "outputs": [
    {
     "name": "stdout",
     "output_type": "stream",
     "text": [
      "163\n",
      "164.270890833\n",
      "[{u'lessons_completed': 0, u'num_courses_visited': 2, u'total_minutes_visited': 25.9137858334, u'projects_completed': 0, 'account_key': u'108', u'utc_date': datetime.datetime(2015, 4, 20, 0, 0)}, {u'lessons_completed': 0, u'num_courses_visited': 1, u'total_minutes_visited': 3.40682316667, u'projects_completed': 0, 'account_key': u'108', u'utc_date': datetime.datetime(2015, 4, 21, 0, 0)}, {u'lessons_completed': 0, u'num_courses_visited': 2, u'total_minutes_visited': 99.1186611667, u'projects_completed': 0, 'account_key': u'108', u'utc_date': datetime.datetime(2015, 4, 22, 0, 0)}, {u'lessons_completed': 0, u'num_courses_visited': 1, u'total_minutes_visited': 35.8316206667, u'projects_completed': 2, 'account_key': u'108', u'utc_date': datetime.datetime(2015, 4, 23, 0, 0)}, {u'lessons_completed': 0, u'num_courses_visited': 0, u'total_minutes_visited': 0.0, u'projects_completed': 0, 'account_key': u'108', u'utc_date': datetime.datetime(2015, 4, 24, 0, 0)}, {u'lessons_completed': 0, u'num_courses_visited': 0, u'total_minutes_visited': 0.0, u'projects_completed': 0, 'account_key': u'108', u'utc_date': datetime.datetime(2015, 4, 25, 0, 0)}, {u'lessons_completed': 0, u'num_courses_visited': 0, u'total_minutes_visited': 0.0, u'projects_completed': 0, 'account_key': u'108', u'utc_date': datetime.datetime(2015, 4, 26, 0, 0)}]\n"
     ]
    }
   ],
   "source": [
    "#####################################\n",
    "#                 8                 #\n",
    "#####################################\n",
    "\n",
    "## Go through a similar process as before to see if there is a problem.\n",
    "## Locate at least one surprising piece of data, output it, and take a look at it.\n",
    "\n",
    "max_mins = 0\n",
    "max_account = 0\n",
    "for i in total_minutes_by_account:\n",
    "    if total_minutes_by_account[i] > max_mins:\n",
    "        max_account = i\n",
    "        max_mins += total_minutes_by_account[i]\n",
    "\n",
    "print max_account\n",
    "print total_minutes_by_account['108']    \n",
    "\n",
    "print engagement_by_account['108']\n"
   ]
  },
  {
   "cell_type": "markdown",
   "metadata": {},
   "source": [
    "## Lessons Completed in First Week"
   ]
  },
  {
   "cell_type": "code",
   "execution_count": 21,
   "metadata": {
    "collapsed": false
   },
   "outputs": [
    {
     "name": "stdout",
     "output_type": "stream",
     "text": [
      "Mean: 1.63618090452\n",
      "Standard Deviation: 3.00256129983\n",
      "Max: 36\n",
      "Min: 0\n"
     ]
    }
   ],
   "source": [
    "#####################################\n",
    "#                 9                 #\n",
    "#####################################\n",
    "\n",
    "## Adapt the code above to find the mean, standard deviation, minimum, and maximum for\n",
    "## the number of lessons completed by each student during the first week. Try creating\n",
    "## one or more functions to re-use the code above.\n",
    "\n",
    "total_lessons_by_account = {}\n",
    "for account_key, engagement_for_student in engagement_by_account.items():\n",
    "    total_lessons = 0\n",
    "    for engagement_record in engagement_for_student:\n",
    "        total_lessons += engagement_record['lessons_completed']\n",
    "    total_lessons_by_account[account_key] = total_lessons\n",
    "    \n",
    "def stats_anal(data):\n",
    "    new_data = data.values()\n",
    "    print 'Mean:', np.mean(new_data)\n",
    "    print 'Standard Deviation:', np.std(new_data)\n",
    "    print 'Max:', np.max(new_data)\n",
    "    print 'Min:', np.min(new_data)\n",
    "\n",
    "stats_anal(total_lessons_by_account)"
   ]
  },
  {
   "cell_type": "markdown",
   "metadata": {},
   "source": [
    "## Number of Visits in First Week"
   ]
  },
  {
   "cell_type": "code",
   "execution_count": 22,
   "metadata": {
    "collapsed": false
   },
   "outputs": [
    {
     "name": "stdout",
     "output_type": "stream",
     "text": [
      "Mean: 2.86733668342\n",
      "Standard Deviation: 2.25519800292\n",
      "Max: 7\n",
      "Min: 0\n"
     ]
    }
   ],
   "source": [
    "######################################\n",
    "#                 10                 #\n",
    "######################################\n",
    "\n",
    "## Find the mean, standard deviation, minimum, and maximum for the number of\n",
    "## days each student visits the classroom during the first week.\n",
    "\n",
    "for i in paid_engagement:\n",
    "    if i['num_courses_visited'] != 0:\n",
    "        i['has_visited'] = 1\n",
    "    else:\n",
    "        i['has_visited'] = 0\n",
    "        \n",
    "total_days_by_account = sum_grouped_items(engagement_by_account, 'has_visited')     \n",
    "stats_anal(total_days_by_account)\n",
    "\n",
    "#print paid_engagement"
   ]
  },
  {
   "cell_type": "markdown",
   "metadata": {},
   "source": [
    "## Splitting out Passing Students"
   ]
  },
  {
   "cell_type": "code",
   "execution_count": 23,
   "metadata": {
    "collapsed": false
   },
   "outputs": [
    {
     "name": "stdout",
     "output_type": "stream",
     "text": [
      "647\n",
      "680\n",
      "4527\n",
      "2392\n"
     ]
    }
   ],
   "source": [
    "######################################\n",
    "#                 11                 #\n",
    "######################################\n",
    "\n",
    "## Create two lists of engagement data for paid students in the first week.\n",
    "## The first list should contain data for students who eventually pass the\n",
    "## subway project, and the second list should contain data for students\n",
    "## who do not.\n",
    "\n",
    "subway_project_lesson_keys = ['746169184', '3176718735']\n",
    "\n",
    "passing_engagement = []\n",
    "non_passing_engagement = []\n",
    "\n",
    "passing_accounts = set()\n",
    "non_passing_accounts = set()\n",
    "\n",
    "for i in paid_submissions:\n",
    "    account_key = i['account_key']\n",
    "    rating = i['assigned_rating']\n",
    "    lesson = i['lesson_key']\n",
    "    if ((lesson in subway_project_lesson_keys) and (rating == 'PASSED' or rating == 'DISTINCTION')):\n",
    "        passing_accounts.add(account_key)\n",
    "       \n",
    "for i in paid_submissions:\n",
    "    account_key = i['account_key']\n",
    "    rating = i['assigned_rating']\n",
    "    lesson = i['lesson_key']\n",
    "    if ((lesson in subway_project_lesson_keys) and (rating != 'PASSED' or rating != 'DISTINCTION')):\n",
    "        non_passing_accounts.add(account_key)\n",
    "        \n",
    "print len(passing_accounts)\n",
    "print len(non_passing_accounts)\n",
    "\n",
    "for i in paid_engagement_in_first_week:\n",
    "    if i['account_key'] in passing_accounts:\n",
    "        passing_engagement.append(i)\n",
    "    else:\n",
    "        non_passing_engagement.append(i)\n",
    "\n",
    "print len(passing_engagement)\n",
    "print len(non_passing_engagement)"
   ]
  },
  {
   "cell_type": "markdown",
   "metadata": {},
   "source": [
    "## Comparing the Two Student Groups"
   ]
  },
  {
   "cell_type": "code",
   "execution_count": 24,
   "metadata": {
    "collapsed": false
   },
   "outputs": [
    {
     "name": "stdout",
     "output_type": "stream",
     "text": [
      "Mean: 394.586046484\n",
      "Standard Deviation: 448.499519327\n",
      "Max: 3564.7332645\n",
      "Min: 0.0\n",
      "Mean: 143.326474267\n",
      "Standard Deviation: 269.538619011\n",
      "Max: 1768.52274933\n",
      "Min: 0.0\n"
     ]
    }
   ],
   "source": [
    "######################################\n",
    "#                 12                 #\n",
    "######################################\n",
    "\n",
    "## Compute some metrics you're interested in and see how they differ for\n",
    "## students who pass the subway project vs. students who don't. A good\n",
    "## starting point would be the metrics we looked at earlier (minutes spent\n",
    "## in the classroom, lessons completed, and days visited).\n",
    "\n",
    "passing_engagement_by_account = group_data(passing_engagement, 'account_key')\n",
    "total_mins = sum_grouped_items(passing_engagement_by_account, 'total_minutes_visited')\n",
    "stats_anal(total_mins)\n",
    "\n",
    "non_passing_engagement_by_account = group_data(non_passing_engagement, 'account_key')\n",
    "total_mins_2 = sum_grouped_items(non_passing_engagement_by_account, 'total_minutes_visited')\n",
    "stats_anal(total_mins_2)\n",
    "\n",
    "lessons_completed = sum_grouped_items(passing_engagement_by_account, 'lessons_completed')\n",
    "lessons_completed_2 = sum_grouped_items(non_passing_engagement_by_account, 'lessons_completed')\n",
    "\n",
    "days_visited = sum_grouped_items(passing_engagement_by_account, 'has_visited')\n",
    "days_visited_2 = sum_grouped_items(non_passing_engagement_by_account, 'has_visited')"
   ]
  },
  {
   "cell_type": "markdown",
   "metadata": {},
   "source": [
    "## Making Histograms"
   ]
  },
  {
   "cell_type": "code",
   "execution_count": 25,
   "metadata": {
    "collapsed": false
   },
   "outputs": [
    {
     "data": {
      "text/plain": [
       "(array([ 272.,   34.,   17.,    9.,    6.,    2.,    1.,    5.,    0.,    2.]),\n",
       " array([    0.        ,   176.85227493,   353.70454987,   530.5568248 ,\n",
       "          707.40909973,   884.26137467,  1061.1136496 ,  1237.96592453,\n",
       "         1414.81819947,  1591.6704744 ,  1768.52274933]),\n",
       " <a list of 10 Patch objects>)"
      ]
     },
     "execution_count": 25,
     "metadata": {},
     "output_type": "execute_result"
    },
    {
     "data": {
      "image/png": "[encoded data removed]",
      "text/plain": [
       "<matplotlib.figure.Figure at 0x4378208>"
      ]
     },
     "metadata": {},
     "output_type": "display_data"
    }
   ],
   "source": [
    "######################################\n",
    "#                 13                 #\n",
    "######################################\n",
    "\n",
    "## Make histograms of the three metrics we looked at earlier for both\n",
    "## students who passed the subway project and students who didn't. You\n",
    "## might also want to make histograms of any other metrics you examined.\n",
    "\n",
    "%matplotlib inline\n",
    "import matplotlib.pyplot as plt\n",
    "plt.hist(total_mins.values())\n",
    "plt.hist(total_mins_2.values())"
   ]
  },
  {
   "cell_type": "code",
   "execution_count": 26,
   "metadata": {
    "collapsed": false
   },
   "outputs": [
    {
     "data": {
      "text/plain": [
       "(array([ 317.,   17.,    6.,    4.,    1.,    1.,    0.,    1.,    0.,    1.]),\n",
       " array([  0. ,   2.7,   5.4,   8.1,  10.8,  13.5,  16.2,  18.9,  21.6,\n",
       "         24.3,  27. ]),\n",
       " <a list of 10 Patch objects>)"
      ]
     },
     "execution_count": 26,
     "metadata": {},
     "output_type": "execute_result"
    },
    {
     "data": {
      "image/png": "[encoded data removed]",
      "text/plain": [
       "<matplotlib.figure.Figure at 0x13ed6748>"
      ]
     },
     "metadata": {},
     "output_type": "display_data"
    }
   ],
   "source": [
    "plt.hist(lessons_completed.values())\n",
    "plt.hist(lessons_completed_2.values())"
   ]
  },
  {
   "cell_type": "code",
   "execution_count": 29,
   "metadata": {
    "collapsed": false
   },
   "outputs": [
    {
     "data": {
      "text/plain": [
       "<matplotlib.axes._subplots.AxesSubplot at 0x19a61e80>"
      ]
     },
     "execution_count": 29,
     "metadata": {},
     "output_type": "execute_result"
    },
    {
     "data": {
      "image/png": "[encoded data removed]",
      "text/plain": [
       "<matplotlib.figure.Figure at 0x1563a048>"
      ]
     },
     "metadata": {},
     "output_type": "display_data"
    }
   ],
   "source": [
    "import seaborn as sns\n",
    "\n",
    "plt.hist(days_visited.values(), bins = 14)\n",
    "plt.hist(days_visited_2.values(), bins = 14)\n",
    "\n",
    "sns.distplot(days_visited.values())"
   ]
  },
  {
   "cell_type": "markdown",
   "metadata": {},
   "source": [
    "## Improving Plots and Sharing Findings"
   ]
  },
  {
   "cell_type": "code",
   "execution_count": null,
   "metadata": {
    "collapsed": true
   },
   "outputs": [],
   "source": [
    "######################################\n",
    "#                 14                 #\n",
    "######################################\n",
    "\n",
    "## Make a more polished version of at least one of your visualizations\n",
    "## from earlier. Try importing the seaborn library to make the visualization\n",
    "## look better, adding axis labels and a title, and changing one or more\n",
    "## arguments to the hist() function."
   ]
  }
 ],
 "metadata": {
  "anaconda-cloud": {},
  "kernelspec": {
   "display_name": "Python [default]",
   "language": "python",
   "name": "python2"
  },
  "language_info": {
   "codemirror_mode": {
    "name": "ipython",
    "version": 2
   },
   "file_extension": ".py",
   "mimetype": "text/x-python",
   "name": "python",
   "nbconvert_exporter": "python",
   "pygments_lexer": "ipython2",
   "version": "2.7.12"
  }
 },
 "nbformat": 4,
 "nbformat_minor": 0
}
